{
 "cells": [
  {
   "cell_type": "code",
   "execution_count": 10,
   "id": "babacb1f-b23d-4a65-8981-f84dcdd97010",
   "metadata": {},
   "outputs": [
    {
     "name": "stdout",
     "output_type": "stream",
     "text": [
      "[{'item': 'edamame', 'category': 'appetizers', 'description': 'boiled soybeans, maldon sea salt', 'price': '4', 'cost': '1'}, {'item': 'house salad', 'category': 'appetizers', 'description': 'mixed greens, cherry tomatoes, cucumber, house ginger dressing', 'price': '4', 'cost': '2'}, {'item': 'cucumber sunomono salad', 'category': 'appetizers', 'description': 'cucumber, ponzu dressing, pickled ginger sproud, sesame seeds', 'price': '5', 'cost': '2'}, {'item': 'hiyashi wakame seaweed salad', 'category': 'appetizers', 'description': 'sweet soy-marinated wakame seaweed threads, pickled ginger sprout, sesame seeds', 'price': '5', 'cost': '2'}, {'item': 'agedashi tofu', 'category': 'appetizers', 'description': 'tempura battered tofu, katsuobushi, tsuyu broth, scallions', 'price': '5', 'cost': '2'}, {'item': 'hiyayakko tofu', 'category': 'appetizers', 'description': 'chilled soft tofu, house shoyu, katsuobushi, ginger, scallions', 'price': '5', 'cost': '2'}, {'item': 'pork floss bao', 'category': 'appetizers', 'description': 'two steamed buns, minced lean slow braised niman, ranch pork belly, cucumbers, sriracha mayo', 'price': '4', 'cost': '2'}, {'item': 'kakuni bao', 'category': 'appetizers', 'description': 'two steamed buns, chopped fatty slow braised niman ranch pork belly, cucumbers, house bao sauce', 'price': '6', 'cost': '3'}, {'item': 'edamame fried gyoza (vegan)', 'category': 'appetizers', 'description': 'six crispy fried edamame and cabbage pot stickers; ponzu rayu dipping sauce', 'price': '6', 'cost': '3'}, {'item': 'fried gyoza', 'category': 'appetizers', 'description': 'six cripsy fried pork and vegetable pot stickers; ponzu rayu dipping sauce', 'price': '6', 'cost': '6'}, {'item': 'takoyaki', 'category': 'appetizers', 'description': 'six octopus-filled fried fritters, kewpie mayo, okonomi sauce, aonori, katsuobushi, nori', 'price': '6', 'cost': '3'}, {'item': 'rock shrimp tempura', 'category': 'appetizers', 'description': 'deep fried tempura battered rock shrimp, sriracha mayo, nisume sauce, aonori, scallions', 'price': '6', 'cost': '3'}, {'item': 'soft-shell crab tempura', 'category': 'appetizers', 'description': 'single deep fried soft-shell crab, tsuyu dipping broth', 'price': '6', 'cost': '3'}, {'item': 'ebi katsu shrimp bao', 'category': 'appetizers', 'description': 'two steamed buns, panko-crusted fried shrimp patties, yuzu-kosho mayo, aonori, scallions', 'price': '6', 'cost': '3'}, {'item': 'nagomi shoyu', 'category': 'entree', 'description': 'shoyu seasoned clear double stock (organic chick broth + house dashi); slow braised niman ranch pork belly, hanjuku tamago, nori, menma, scallions', 'price': '11', 'cost': '5'}, {'item': 'shio ramen', 'category': 'entree', 'description': 'sea salt seasoned clear double stock (organic chicken broth + house dashi); slow braised niman ranch pork belly, hanjuku tamago, kikurage, nori, scallions', 'price': '11', 'cost': '5'}, {'item': 'spicy miso ramen', 'category': 'entree', 'description': 'house togarashi miso blend + niman ranch pork bone stock; slow braised niman ranch pork belly, hanjuku tamago, kikurage, nori, scallions', 'price': '12', 'cost': '5'}, {'item': 'vegetarian spicy miso', 'category': 'entree', 'description': 'house togarashi miso blend + vegan dashi; tempura fried tofu, sweet corn, edamame, kikurage, nori, scallions; organic soy milk upon request', 'price': '12', 'cost': '5'}, {'item': 'miso crab ramen', 'category': 'entree', 'description': 'house miso crab blend + vegan dashi; slow braised niman ranch pork belly, crab meat, hanjuku tamago, kikurage, nori, scallions', 'price': '12', 'cost': '6'}, {'item': 'soft-shell miso crab ramen', 'category': 'entree', 'description': 'house miso crab blend + vegan dashi; fried whole soft-shell crab, hanjuku tamago, kikurage, nori, scallions', 'price': '14', 'cost': '7'}, {'item': 'tori paitan ramen', 'category': 'entree', 'description': 'rich, shoyu seasoned double stock (organic chicken broth + house dashi); slow braised niman ranch pork belly, hanuku tamago, kikurage, nori, scllaions', 'price': '13', 'cost': '6'}, {'item': 'tonkotsu ramen', 'category': 'entree', 'description': 'rich, shoyi seasoned niman ranch pork bone stock; slow braised niman ranch pork belly, hanjuku tamago, kikurage, nori, spring radish, scallions', 'price': '13', 'cost': '6'}, {'item': 'burnt garlic tonkotsu ramen', 'category': 'entree', 'description': 'rich, shoyi and burnt garlic seasoned niman ranch pork bone stock; slow braised niman ranch pork belly, hanjuku tamago, kikurage, sweet corn, nori, scallions', 'price': '14', 'cost': '6'}, {'item': 'vegetarian curry + king trumpet mushroom ramen', 'category': 'entree', 'description': 'house curry blend + vegan dashi; fried king trumpet mushroom, tempura fried tofu, mung bean sprouts, kikurage, nori, scallions', 'price': '13', 'cost': '7'}, {'item': 'truffle butter ramen', 'category': 'entree', 'description': 'rich, shoyu seasoned niman ranch prok bone stock; truffle compound butter, slow braised niman ranch pork belly, kikurage, sweet corn, nori, scallions', 'price': '14', 'cost': '7'}, {'item': 'green tea', 'category': 'drinks', 'description': 'green tea', 'price': '2.5', 'cost': '1'}, {'item': 'coke', 'category': 'drinks', 'description': 'Coca Cola soda', 'price': '2', 'cost': '1'}, {'item': 'black sesame ice cream', 'category': 'desserts', 'description': 'house-made black sesame ice cream, valrhona chocolate threads, complimentary hojicha', 'price': '5', 'cost': '2'}, {'item': 'matcha ice cream', 'category': 'desserts', 'description': 'house-made matcha ice cream, white chocolate pearls; complimentary hojicha', 'price': '5', 'cost': '2'}, {'item': 'mango mochi ice cream', 'category': 'desserts', 'description': 'two rice-cake bonbons filled with strawberry ice cream; complimentary hojicha', 'price': '5', 'cost': '2'}, {'item': 'strawberry mochi ice cream', 'category': 'desserts', 'description': 'two rice-cake bonbons filled with strawberry ice cream; complimentary hojicha', 'price': '5', 'cost': '2'}, {'item': 'black sesame creme brulee', 'category': 'desserts', 'description': 'house made black sesame infused creme brulee; complimentary hojicha', 'price': '6', 'cost': '3'}]\n"
     ]
    },
    {
     "ename": "TypeError",
     "evalue": "list indices must be integers or slices, not str",
     "output_type": "error",
     "traceback": [
      "\u001b[0;31m---------------------------------------------------------------------------\u001b[0m",
      "\u001b[0;31mTypeError\u001b[0m                                 Traceback (most recent call last)",
      "\u001b[0;32m<ipython-input-10-ddee892118e6>\u001b[0m in \u001b[0;36m<module>\u001b[0;34m\u001b[0m\n\u001b[1;32m     15\u001b[0m \u001b[0;34m\u001b[0m\u001b[0m\n\u001b[1;32m     16\u001b[0m \u001b[0mprint\u001b[0m\u001b[0;34m(\u001b[0m\u001b[0mmenu_data\u001b[0m\u001b[0;34m)\u001b[0m\u001b[0;34m\u001b[0m\u001b[0;34m\u001b[0m\u001b[0m\n\u001b[0;32m---> 17\u001b[0;31m \u001b[0mmenu_items\u001b[0m \u001b[0;34m=\u001b[0m \u001b[0mmenu_data\u001b[0m\u001b[0;34m[\u001b[0m\u001b[0;34m'item'\u001b[0m\u001b[0;34m]\u001b[0m\u001b[0;34m\u001b[0m\u001b[0;34m\u001b[0m\u001b[0m\n\u001b[0m\u001b[1;32m     18\u001b[0m \u001b[0;31m#         print(menu_items)\u001b[0m\u001b[0;34m\u001b[0m\u001b[0;34m\u001b[0m\u001b[0;34m\u001b[0m\u001b[0m\n\u001b[1;32m     19\u001b[0m \u001b[0mmenu_categories\u001b[0m \u001b[0;34m=\u001b[0m \u001b[0mmenu_data\u001b[0m\u001b[0;34m[\u001b[0m\u001b[0;34m'category'\u001b[0m\u001b[0;34m]\u001b[0m\u001b[0;34m\u001b[0m\u001b[0;34m\u001b[0m\u001b[0m\n",
      "\u001b[0;31mTypeError\u001b[0m: list indices must be integers or slices, not str"
     ]
    }
   ],
   "source": [
    "# -*- coding: UTF-8 -*-\n",
    "\"\"\"PyRamen Homework.\"\"\"\n",
    "\n",
    "# Import libraries\n",
    "import csv\n",
    "\n",
    "menu_data = [];\n",
    "# Set file paths for menu_data.csv and sales_data.csv\n",
    "with open('menu_data.csv', newline='') as csvfile:\n",
    "    reader = csv.DictReader(csvfile)\n",
    "    for row in reader:\n",
    "        menu_data.append(row)\n",
    "#         print(menu_data)\n",
    "        # Read in the menu data into the menu list\n",
    "\n",
    "print(menu_data)\n",
    "menu_items = menu_data['item']\n",
    "#         print(menu_items)\n",
    "menu_categories = menu_data['category']\n",
    "menu_descriptions = menu_data['description']\n",
    "menu_prices = menu_data['price']\n",
    "menu_costs = menu_data['cost']\n",
    "\n",
    "# menu_data = pd.read_csv(\"./menu_data.csv\")\n",
    "sales_data = pd.read_csv(\"./sales_data.csv\")\n",
    "\n",
    "\n",
    "# Initialize list objects to hold our menu and sales data\n",
    "menu = []\n",
    "sales = []\n",
    "\n",
    "# Read in the sales data into the sales list\n",
    "sales_item_ids = sales_data['Line_Item_ID']\n",
    "sales_dates = sales_data['Date']\n",
    "sales_credit_cards = sales_data['Credit_Card_Number']\n",
    "sales_quantities = sales_data['Quantity']\n",
    "sales_menu_items = sales_data['Menu_Item']\n",
    "\n",
    "# Initialize dict object to hold our key-value pairs of items and metrics\n",
    "report = {}\n",
    "\n",
    "# Initialize a row counter variable\n",
    "row_count = 0\n",
    "\n",
    "# Loop over every row in the sales list object\n",
    "for i, sales_item in enumerate(sales_item_ids):\n",
    "    for j, menu_item in enumerate(menu_items):\n",
    "        # If the sales item is equal to the menu item, add to the dictionary or create new entry\n",
    "        if sales_menu_items[i] == menu_item:\n",
    "            item = sales_menu_items[i]\n",
    "            # If the item value is in the report, calculate data and add to the item in the dictionary\n",
    "            if item in report:\n",
    "                report[item][\"01-count\"] += sales_quantities[i]\n",
    "                report[item][\"02-revenue\"] += menu_prices[j] * sales_quantities[i]\n",
    "                report[item][\"03-cogs\"] += menu_costs[j] * sales_quantities[i]\n",
    "                report[item][\"04-profit\"] += (menu_prices[j]-menu_costs[j]) * sales_quantities[i]\n",
    "            # If the item value not in the report, add it as a new entry with initialized metrics\n",
    "            else:\n",
    "                report[item] = {\n",
    "                    \"01-count\": 0,\n",
    "                    \"02-revenue\": 0,\n",
    "                    \"03-cogs\": 0,\n",
    "                    \"04-profit\": 0\n",
    "                }\n",
    "                report[item][\"01-count\"] += sales_quantities[i]\n",
    "                report[item][\"02-revenue\"] += menu_prices[j] * sales_quantities[i]\n",
    "                report[item][\"03-cogs\"] += menu_costs[j] * sales_quantities[i]\n",
    "                report[item][\"04-profit\"] += (menu_prices[j]-menu_costs[j]) * sales_quantities[i]\n",
    "\n",
    "# Print total number of records in sales data\n",
    "print(report)\n",
    "\n",
    "# Write out report to a text file (won't appear on the command line output)\n",
    "with open('menu_analysis.txt', 'w') as menu_analysis:\n",
    "    menu_analysis.write(str(report))"
   ]
  },
  {
   "cell_type": "code",
   "execution_count": null,
   "id": "d0edd8d0-c000-42f3-92ac-302f174c43ef",
   "metadata": {},
   "outputs": [],
   "source": []
  }
 ],
 "metadata": {
  "kernelspec": {
   "display_name": "Python 3",
   "language": "python",
   "name": "python3"
  },
  "language_info": {
   "codemirror_mode": {
    "name": "ipython",
    "version": 3
   },
   "file_extension": ".py",
   "mimetype": "text/x-python",
   "name": "python",
   "nbconvert_exporter": "python",
   "pygments_lexer": "ipython3",
   "version": "3.8.8"
  }
 },
 "nbformat": 4,
 "nbformat_minor": 5
}
