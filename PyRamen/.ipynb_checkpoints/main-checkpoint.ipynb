{
 "cells": [
  {
   "cell_type": "code",
   "execution_count": 9,
   "id": "babacb1f-b23d-4a65-8981-f84dcdd97010",
   "metadata": {},
   "outputs": [
    {
     "ename": "TypeError",
     "evalue": "list indices must be integers or slices, not str",
     "output_type": "error",
     "traceback": [
      "\u001b[0;31m---------------------------------------------------------------------------\u001b[0m",
      "\u001b[0;31mTypeError\u001b[0m                                 Traceback (most recent call last)",
      "\u001b[0;32m<ipython-input-9-4a178f1b4497>\u001b[0m in \u001b[0;36m<module>\u001b[0;34m\u001b[0m\n\u001b[1;32m     14\u001b[0m         \u001b[0;31m# Read in the menu data into the menu list\u001b[0m\u001b[0;34m\u001b[0m\u001b[0;34m\u001b[0m\u001b[0;34m\u001b[0m\u001b[0m\n\u001b[1;32m     15\u001b[0m \u001b[0;34m\u001b[0m\u001b[0m\n\u001b[0;32m---> 16\u001b[0;31m \u001b[0mmenu_items\u001b[0m \u001b[0;34m=\u001b[0m \u001b[0mmenu_data\u001b[0m\u001b[0;34m[\u001b[0m\u001b[0;34m'item'\u001b[0m\u001b[0;34m]\u001b[0m\u001b[0;34m\u001b[0m\u001b[0;34m\u001b[0m\u001b[0m\n\u001b[0m\u001b[1;32m     17\u001b[0m \u001b[0;31m#         print(menu_items)\u001b[0m\u001b[0;34m\u001b[0m\u001b[0;34m\u001b[0m\u001b[0;34m\u001b[0m\u001b[0m\n\u001b[1;32m     18\u001b[0m \u001b[0mmenu_categories\u001b[0m \u001b[0;34m=\u001b[0m \u001b[0mmenu_data\u001b[0m\u001b[0;34m[\u001b[0m\u001b[0;34m'category'\u001b[0m\u001b[0;34m]\u001b[0m\u001b[0;34m\u001b[0m\u001b[0;34m\u001b[0m\u001b[0m\n",
      "\u001b[0;31mTypeError\u001b[0m: list indices must be integers or slices, not str"
     ]
    }
   ],
   "source": [
    "# -*- coding: UTF-8 -*-\n",
    "\"\"\"PyRamen Homework.\"\"\"\n",
    "\n",
    "# Import libraries\n",
    "import csv\n",
    "\n",
    "menu_data = [];\n",
    "# Set file paths for menu_data.csv and sales_data.csv\n",
    "with open('menu_data.csv', newline='') as csvfile:\n",
    "    reader = csv.DictReader(csvfile)\n",
    "    for row in reader:\n",
    "        menu_data.append(row)\n",
    "#         print(menu_data)\n",
    "        # Read in the menu data into the menu list\n",
    "\n",
    "print(menu_data)\n",
    "menu_items = menu_data['item']\n",
    "#         print(menu_items)\n",
    "menu_categories = menu_data['category']\n",
    "menu_descriptions = menu_data['description']\n",
    "menu_prices = menu_data['price']\n",
    "menu_costs = menu_data['cost']\n",
    "\n",
    "# menu_data = pd.read_csv(\"./menu_data.csv\")\n",
    "sales_data = pd.read_csv(\"./sales_data.csv\")\n",
    "\n",
    "\n",
    "# Initialize list objects to hold our menu and sales data\n",
    "menu = []\n",
    "sales = []\n",
    "\n",
    "# Read in the sales data into the sales list\n",
    "sales_item_ids = sales_data['Line_Item_ID']\n",
    "sales_dates = sales_data['Date']\n",
    "sales_credit_cards = sales_data['Credit_Card_Number']\n",
    "sales_quantities = sales_data['Quantity']\n",
    "sales_menu_items = sales_data['Menu_Item']\n",
    "\n",
    "# Initialize dict object to hold our key-value pairs of items and metrics\n",
    "report = {}\n",
    "\n",
    "# Initialize a row counter variable\n",
    "row_count = 0\n",
    "\n",
    "# Loop over every row in the sales list object\n",
    "for i, sales_item in enumerate(sales_item_ids):\n",
    "    for j, menu_item in enumerate(menu_items):\n",
    "        # If the sales item is equal to the menu item, add to the dictionary or create new entry\n",
    "        if sales_menu_items[i] == menu_item:\n",
    "            item = sales_menu_items[i]\n",
    "            # If the item value is in the report, calculate data and add to the item in the dictionary\n",
    "            if item in report:\n",
    "                report[item][\"01-count\"] += sales_quantities[i]\n",
    "                report[item][\"02-revenue\"] += menu_prices[j] * sales_quantities[i]\n",
    "                report[item][\"03-cogs\"] += menu_costs[j] * sales_quantities[i]\n",
    "                report[item][\"04-profit\"] += (menu_prices[j]-menu_costs[j]) * sales_quantities[i]\n",
    "            # If the item value not in the report, add it as a new entry with initialized metrics\n",
    "            else:\n",
    "                report[item] = {\n",
    "                    \"01-count\": 0,\n",
    "                    \"02-revenue\": 0,\n",
    "                    \"03-cogs\": 0,\n",
    "                    \"04-profit\": 0\n",
    "                }\n",
    "                report[item][\"01-count\"] += sales_quantities[i]\n",
    "                report[item][\"02-revenue\"] += menu_prices[j] * sales_quantities[i]\n",
    "                report[item][\"03-cogs\"] += menu_costs[j] * sales_quantities[i]\n",
    "                report[item][\"04-profit\"] += (menu_prices[j]-menu_costs[j]) * sales_quantities[i]\n",
    "\n",
    "# Print total number of records in sales data\n",
    "print(report)\n",
    "\n",
    "# Write out report to a text file (won't appear on the command line output)\n",
    "with open('menu_analysis.txt', 'w') as menu_analysis:\n",
    "    menu_analysis.write(str(report))"
   ]
  },
  {
   "cell_type": "code",
   "execution_count": null,
   "id": "d0edd8d0-c000-42f3-92ac-302f174c43ef",
   "metadata": {},
   "outputs": [],
   "source": []
  }
 ],
 "metadata": {
  "kernelspec": {
   "display_name": "Python 3",
   "language": "python",
   "name": "python3"
  },
  "language_info": {
   "codemirror_mode": {
    "name": "ipython",
    "version": 3
   },
   "file_extension": ".py",
   "mimetype": "text/x-python",
   "name": "python",
   "nbconvert_exporter": "python",
   "pygments_lexer": "ipython3",
   "version": "3.8.8"
  }
 },
 "nbformat": 4,
 "nbformat_minor": 5
}
