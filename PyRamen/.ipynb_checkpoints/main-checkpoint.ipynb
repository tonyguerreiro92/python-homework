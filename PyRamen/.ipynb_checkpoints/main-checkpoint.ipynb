{
 "cells": [
  {
   "cell_type": "code",
   "execution_count": 4,
   "id": "babacb1f-b23d-4a65-8981-f84dcdd97010",
   "metadata": {},
   "outputs": [
    {
     "name": "stdout",
     "output_type": "stream",
     "text": [
      "{'spicy miso ramen': {'01-count': 9238, '02-revenue': 110856.0, '03-cogs': 46190, '04-profit': 64666.0}, 'tori paitan ramen': {'01-count': 9156, '02-revenue': 119028.0, '03-cogs': 54936, '04-profit': 64092.0}, 'truffle butter ramen': {'01-count': 8982, '02-revenue': 125748.0, '03-cogs': 62874, '04-profit': 62874.0}, 'tonkotsu ramen': {'01-count': 9288, '02-revenue': 120744.0, '03-cogs': 55728, '04-profit': 65016.0}, 'vegetarian spicy miso': {'01-count': 9216, '02-revenue': 110592.0, '03-cogs': 46080, '04-profit': 64512.0}, 'shio ramen': {'01-count': 9180, '02-revenue': 100980.0, '03-cogs': 45900, '04-profit': 55080.0}, 'miso crab ramen': {'01-count': 8890, '02-revenue': 106680.0, '03-cogs': 53340, '04-profit': 53340.0}, 'nagomi shoyu': {'01-count': 9132, '02-revenue': 100452.0, '03-cogs': 45660, '04-profit': 54792.0}, 'soft-shell miso crab ramen': {'01-count': 9130, '02-revenue': 127820.0, '03-cogs': 63910, '04-profit': 63910.0}, 'burnt garlic tonkotsu ramen': {'01-count': 9070, '02-revenue': 126980.0, '03-cogs': 54420, '04-profit': 72560.0}, 'vegetarian curry + king trumpet mushroom ramen': {'01-count': 8824, '02-revenue': 114712.0, '03-cogs': 61768, '04-profit': 52944.0}}\n"
     ]
    }
   ],
   "source": [
    "# -*- coding: UTF-8 -*-\n",
    "\"\"\"PyRamen Homework.\"\"\"\n",
    "\n",
    "# Import libraries\n",
    "import pandas as pd\n",
    "\n",
    "# Set file paths for menu_data.csv and sales_data.csv\n",
    "menu_data = pd.read_csv(\"./menu_data.csv\")\n",
    "sales_data = pd.read_csv(\"./sales_data.csv\")\n",
    "\n",
    "\n",
    "# Initialize list objects to hold our menu and sales data\n",
    "menu = []\n",
    "sales = []\n",
    "\n",
    "# Read in the menu data into the menu list\n",
    "menu_items = menu_data['item']\n",
    "menu_categories = menu_data['category']\n",
    "menu_descriptions = menu_data['description']\n",
    "menu_prices = menu_data['price']\n",
    "menu_costs = menu_data['cost']\n",
    "\n",
    "# Read in the sales data into the sales list\n",
    "sales_item_ids = sales_data['Line_Item_ID']\n",
    "sales_dates = sales_data['Date']\n",
    "sales_credit_cards = sales_data['Credit_Card_Number']\n",
    "sales_quantities = sales_data['Quantity']\n",
    "sales_menu_items = sales_data['Menu_Item']\n",
    "\n",
    "# Initialize dict object to hold our key-value pairs of items and metrics\n",
    "report = {}\n",
    "\n",
    "# Initialize a row counter variable\n",
    "row_count = 0\n",
    "\n",
    "# Loop over every row in the sales list object\n",
    "for i, sales_item in enumerate(sales_item_ids):\n",
    "    for j, menu_item in enumerate(menu_items):\n",
    "        # If the sales item is equal to the menu item, add to the dictionary or create new entry\n",
    "        if sales_menu_items[i] == menu_item:\n",
    "            item = sales_menu_items[i]\n",
    "            # If the item value is in the report, calculate data and add to the item in the dictionary\n",
    "            if item in report:\n",
    "                report[item][\"01-count\"] += sales_quantities[i]\n",
    "                report[item][\"02-revenue\"] += menu_prices[j] * sales_quantities[i]\n",
    "                report[item][\"03-cogs\"] += menu_costs[j] * sales_quantities[i]\n",
    "                report[item][\"04-profit\"] += (menu_prices[j]-menu_costs[j]) * sales_quantities[i]\n",
    "            # If the item value not in the report, add it as a new entry with initialized metrics\n",
    "            else:\n",
    "                report[item] = {\n",
    "                    \"01-count\": 0,\n",
    "                    \"02-revenue\": 0,\n",
    "                    \"03-cogs\": 0,\n",
    "                    \"04-profit\": 0\n",
    "                }\n",
    "                report[item][\"01-count\"] += sales_quantities[i]\n",
    "                report[item][\"02-revenue\"] += menu_prices[j] * sales_quantities[i]\n",
    "                report[item][\"03-cogs\"] += menu_costs[j] * sales_quantities[i]\n",
    "                report[item][\"04-profit\"] += (menu_prices[j]-menu_costs[j]) * sales_quantities[i]\n",
    "\n",
    "# Print total number of records in sales data\n",
    "print(report)\n",
    "\n",
    "# Write out report to a text file (won't appear on the command line output)\n",
    "with open('menu_analysis.txt', 'w') as menu_analysis:\n",
    "    menu_analysis.write(str(report))"
   ]
  }
 ],
 "metadata": {
  "kernelspec": {
   "display_name": "Python 3",
   "language": "python",
   "name": "python3"
  },
  "language_info": {
   "codemirror_mode": {
    "name": "ipython",
    "version": 3
   },
   "file_extension": ".py",
   "mimetype": "text/x-python",
   "name": "python",
   "nbconvert_exporter": "python",
   "pygments_lexer": "ipython3",
   "version": "3.8.8"
  }
 },
 "nbformat": 4,
 "nbformat_minor": 5
}
